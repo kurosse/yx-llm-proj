{
 "cells": [
  {
   "cell_type": "code",
   "execution_count": null,
   "id": "d31864e1",
   "metadata": {},
   "outputs": [],
   "source": [
    "from transformers import AutoTokenizer, AutoModelForSeq2SeqLM\n",
    "\n",
    "# 1. Load tokenizer & model (you already did this)\n",
    "tokenizer = AutoTokenizer.from_pretrained(\"facebook/nllb-200-distilled-600M\")\n",
    "model     = AutoModelForSeq2SeqLM.from_pretrained(\"facebook/nllb-200-distilled-600M\")"
   ]
  },
  {
   "cell_type": "code",
   "execution_count": 9,
   "id": "2b10b180",
   "metadata": {},
   "outputs": [],
   "source": [
    "def translate_text(text: str, src_lang: str, target_lang: str = \"eng_Latn\"):\n",
    "    tokenizer.src_lang = src_lang\n",
    "    encoded_inputs = tokenizer(text, return_tensors=\"pt\")\n",
    "    forced_bos_id = tokenizer.convert_tokens_to_ids(target_lang)\n",
    "\n",
    "    generated_ids = model.generate(**encoded_inputs, forced_bos_token_id=forced_bos_id, max_length=50, num_beams=5, early_stopping=True)\n",
    "\n",
    "    translation = tokenizer.batch_decode(generated_ids, skip_special_tokens=True)[0]\n",
    "    return translation"
   ]
  },
  {
   "cell_type": "code",
   "execution_count": null,
   "id": "217dd093",
   "metadata": {},
   "outputs": [
    {
     "data": {
      "text/plain": [
       "'Today is the beginning of the new year, and we will be blessing the emperor.'"
      ]
     },
     "execution_count": 10,
     "metadata": {},
     "output_type": "execute_result"
    }
   ],
   "source": [
    "# Chinese example\n",
    "translate_text(\"今天是新年初九，我们将向玉皇大帝祈福。\", \"zho_Hant\")\n",
    "\n",
    "# NLLB: Today is the beginning of the new year, and we will be blessing the emperor.\n",
    "# G. Trans: Today is the ninth day of the New Year, and we will pray to the Jade Emperor.\n",
    "# ChatGPT: Today is the ninth day of the Lunar New Year, and we will pray to the Jade Emperor."
   ]
  },
  {
   "cell_type": "code",
   "execution_count": null,
   "id": "d2843deb",
   "metadata": {},
   "outputs": [
    {
     "data": {
      "text/plain": [
       "'Kids are playing in the garden.'"
      ]
     },
     "execution_count": 12,
     "metadata": {},
     "output_type": "execute_result"
    }
   ],
   "source": [
    "# Malay example\n",
    "translate_text(\"anak2 sedang bermain di taman\", \"msa_Latn\")\n",
    "\n",
    "# NLLB: \"Kids are playing in the garden\"\n",
    "# G. Trans.: \"Children are playing in the park\"\n",
    "# ChatGPT: \"Children are playing in the park\""
   ]
  }
 ],
 "metadata": {
  "kernelspec": {
   "display_name": "omscs-llm",
   "language": "python",
   "name": "python3"
  },
  "language_info": {
   "codemirror_mode": {
    "name": "ipython",
    "version": 3
   },
   "file_extension": ".py",
   "mimetype": "text/x-python",
   "name": "python",
   "nbconvert_exporter": "python",
   "pygments_lexer": "ipython3",
   "version": "3.10.16"
  }
 },
 "nbformat": 4,
 "nbformat_minor": 5
}
