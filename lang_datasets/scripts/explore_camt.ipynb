{
 "cells": [
  {
   "cell_type": "code",
   "execution_count": 2,
   "id": "9e7e7aef",
   "metadata": {},
   "outputs": [],
   "source": [
    "%load_ext autoreload\n",
    "%autoreload 2\n",
    "\n",
    "import os\n",
    "import random\n",
    "import json\n",
    "\n",
    "from constants import LANGUAGES, SELECTED_SENTENCES\n",
    "\n",
    "SEED = 117"
   ]
  },
  {
   "cell_type": "code",
   "execution_count": 4,
   "id": "a6783860",
   "metadata": {},
   "outputs": [],
   "source": [
    "camt_dataset_path = \"../camt_dataset/dataset\"\n",
    "camt_output_path = \"../camt_dataset/dataset_processed\"\n",
    "file_names = os.listdir(camt_dataset_path)\n",
    "\n",
    "# Extract just the sentences from the files\n",
    "def extract_sentences(file_name):\n",
    "    with open(os.path.join(camt_dataset_path, file_name), \"r\") as f:\n",
    "        data = json.load(f)\n",
    "    \n",
    "    with open(os.path.join(camt_output_path, file_name), \"w\") as f_out:\n",
    "        texts = []\n",
    "        for item in data:\n",
    "            texts.append(\n",
    "                {\n",
    "                    \"source\": item[\"source\"],\n",
    "                    \"target\": item[\"target\"],\n",
    "                }\n",
    "            )\n",
    "        json.dump(texts, f_out, indent=4, ensure_ascii=False)\n",
    "\n",
    "# Process each file\n",
    "for file_name in file_names:\n",
    "    if file_name.endswith(\".json\"):\n",
    "        extract_sentences(file_name)"
   ]
  }
 ],
 "metadata": {
  "kernelspec": {
   "display_name": "omscs-llm",
   "language": "python",
   "name": "python3"
  },
  "language_info": {
   "codemirror_mode": {
    "name": "ipython",
    "version": 3
   },
   "file_extension": ".py",
   "mimetype": "text/x-python",
   "name": "python",
   "nbconvert_exporter": "python",
   "pygments_lexer": "ipython3",
   "version": "3.10.16"
  }
 },
 "nbformat": 4,
 "nbformat_minor": 5
}
