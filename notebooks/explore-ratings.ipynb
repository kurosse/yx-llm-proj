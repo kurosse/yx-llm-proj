{
 "cells": [
  {
   "cell_type": "code",
   "execution_count": 1,
   "id": "73339de8",
   "metadata": {},
   "outputs": [],
   "source": [
    "%load_ext autoreload\n",
    "%autoreload 2\n",
    "\n",
    "import os, sys\n",
    "\n",
    "# 1) Compute project root (one level up from notebooks/)\n",
    "ROOT = os.path.abspath(\"..\")\n",
    "\n",
    "# 2) Insert it at the front of sys.path\n",
    "sys.path.insert(0, ROOT)\n",
    "\n",
    "import json\n",
    "from rich import print\n",
    "from src.utils.trad_metrics import TradMetrics"
   ]
  },
  {
   "cell_type": "code",
   "execution_count": null,
   "id": "6d94d1c9",
   "metadata": {},
   "outputs": [],
   "source": [
    "trad_metrics = TradMetrics()"
   ]
  },
  {
   "cell_type": "code",
   "execution_count": null,
   "id": "c2cb819c",
   "metadata": {},
   "outputs": [],
   "source": [
    "RATINGS_FILE = \"../ratings/flores200-ratings.json\"\n",
    "TRANSLATIONS_FILE = \"../datasets/flores200_dataset/flores_sample_translations.json\"\n",
    "\n",
    "CANDIDATE_MAP = {\n",
    "    \"candidate_1\": \"google_translate\",\n",
    "    \"candidate_2\": \"nllb_translate\",\n",
    "    \"candidate_3\": \"llm_translate\",\n",
    "}\n",
    "\n",
    "ratings = {\n",
    "    \"google_translate\": {\n",
    "        \"sentence_bleu\": [],\n",
    "        \"chrf\": [],\n",
    "        \"comet\": [],\n",
    "    },\n",
    "    \"nllb_translate\": {\n",
    "        \"sentence_bleu\": [],\n",
    "        \"chrf\": [],\n",
    "        \"comet\": [],\n",
    "    },\n",
    "    \"llm_translate\": {\n",
    "        \"sentence_bleu\": [],\n",
    "        \"chrf\": [],\n",
    "        \"comet\": [],\n",
    "    },\n",
    "    \"best_selected\": {\n",
    "        \"sentence_bleu\": [],\n",
    "        \"chrf\": [],\n",
    "        \"comet\": [],\n",
    "    },\n",
    "}\n",
    "\n",
    "with open(RATINGS_FILE, \"r\", encoding=\"utf-8\") as f:\n",
    "    ratings = json.load(f)\n",
    "\n",
    "with open(TRANSLATIONS_FILE, \"r\", encoding=\"utf-8\") as f:\n",
    "    translations = json.load(f)"
   ]
  },
  {
   "cell_type": "code",
   "execution_count": null,
   "id": "25526e70",
   "metadata": {},
   "outputs": [],
   "source": [
    "languages = \n",
    "\n",
    "def get_candidate_score(candidate_id, languages):\n",
    "\n",
    "    ratings = {\n",
    "        candidate_id: {\n",
    "            language: {\"sentence_bleu\": [], \"chrf\": [], \"comet\": []}\n",
    "            for language in languages\n",
    "        }\n",
    "    }\n",
    "\n",
    "    for data in ratings:\n",
    "        source_sentence = data[\"source_sentence\"]\n",
    "        reference_sentence = data[\"original_english_text\"]\n",
    "        for candidate in data[\"candidate_sentence_evaluations\"]:\n",
    "            if candidate[\"candidate_id\"] != candidate_id:\n",
    "                continue\n",
    "\n",
    "            candidate_sentence = candidate[\"candidate_sentence\"]"
   ]
  },
  {
   "cell_type": "code",
   "execution_count": null,
   "id": "b130867d",
   "metadata": {},
   "outputs": [],
   "source": []
  },
  {
   "cell_type": "code",
   "execution_count": 9,
   "id": "d9b45f49",
   "metadata": {},
   "outputs": [],
   "source": [
    "cand_map_counter = {\n",
    "    \"google_translate\": {\"count\": 0, \"lang\": []},\n",
    "    \"nllb_translate\": {\"count\": 0, \"lang\": []},\n",
    "    \"llm_translate\": {\"count\": 0, \"lang\": []},\n",
    "}\n",
    "\n",
    "for trans_eval in ratings:\n",
    "    # print(trans_eval[\"language_code\"], trans_eval[\"best_candidate_id_and_sentence\"])\n",
    "    if \"candidate_1\" in trans_eval[\"best_candidate_id_and_sentence\"]:\n",
    "        cand_map_counter[\"google_translate\"][\"count\"] += 1\n",
    "        cand_map_counter[\"google_translate\"][\"lang\"].append(trans_eval[\"language_code\"])\n",
    "    if \"candidate_2\" in trans_eval[\"best_candidate_id_and_sentence\"]:\n",
    "        cand_map_counter[\"nllb_translate\"][\"count\"] += 1\n",
    "        cand_map_counter[\"nllb_translate\"][\"lang\"].append(trans_eval[\"language_code\"])\n",
    "    if \"candidate_3\" in trans_eval[\"best_candidate_id_and_sentence\"]:\n",
    "        cand_map_counter[\"llm_translate\"][\"count\"] += 1\n",
    "        cand_map_counter[\"llm_translate\"][\"lang\"].append(trans_eval[\"language_code\"])"
   ]
  },
  {
   "cell_type": "code",
   "execution_count": null,
   "id": "e2624634",
   "metadata": {},
   "outputs": [],
   "source": []
  }
 ],
 "metadata": {
  "kernelspec": {
   "display_name": "omscs-llm",
   "language": "python",
   "name": "python3"
  },
  "language_info": {
   "codemirror_mode": {
    "name": "ipython",
    "version": 3
   },
   "file_extension": ".py",
   "mimetype": "text/x-python",
   "name": "python",
   "nbconvert_exporter": "python",
   "pygments_lexer": "ipython3",
   "version": "3.10.16"
  }
 },
 "nbformat": 4,
 "nbformat_minor": 5
}
