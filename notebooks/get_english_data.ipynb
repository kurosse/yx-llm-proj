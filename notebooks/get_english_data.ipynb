{
 "cells": [
  {
   "cell_type": "code",
   "execution_count": 3,
   "id": "99302aa0",
   "metadata": {},
   "outputs": [],
   "source": [
    "import json\n",
    "from rich import print\n",
    "\n",
    "with open(\"../lang_datasets/sample_dataset/flores_sample_translations.json\", \"r\", encoding=\"utf-8\") as f:\n",
    "    translations = json.load(f)"
   ]
  },
  {
   "cell_type": "code",
   "execution_count": 7,
   "id": "733832a8",
   "metadata": {},
   "outputs": [
    {
     "data": {
      "text/html": [
       "<pre style=\"white-space:pre;overflow-x:auto;line-height:normal;font-family:Menlo,'DejaVu Sans Mono',consolas,'Courier New',monospace\"><span style=\"font-weight: bold\">[</span>\n",
       "    <span style=\"color: #008000; text-decoration-color: #008000\">'Cherry blossom viewing, known as hanami, has been a part of Japanese culture since the 8th century.'</span>,\n",
       "    <span style=\"color: #008000; text-decoration-color: #008000\">'The Tibetan Buddhism is based on the teachings of Buddha, but were extended by the mahayana path of love and </span>\n",
       "<span style=\"color: #008000; text-decoration-color: #008000\">by a lot of techniques from Indian Yoga.'</span>,\n",
       "    <span style=\"color: #008000; text-decoration-color: #008000\">'The concept came from China where plum blossoms were the flower of choice.'</span>,\n",
       "    <span style=\"color: #008000; text-decoration-color: #008000\">'In Japan, the first cherry blossom parties were hosted by the emperor only for himself and other members of </span>\n",
       "<span style=\"color: #008000; text-decoration-color: #008000\">the aristocracy around the Imperial Court.'</span>,\n",
       "    <span style=\"color: #008000; text-decoration-color: #008000\">'With 17,000 islands to choose from, Indonesian food is an umbrella term covering a vast variety of regional </span>\n",
       "<span style=\"color: #008000; text-decoration-color: #008000\">cuisines found across the nation.'</span>,\n",
       "    <span style=\"color: #008000; text-decoration-color: #008000\">'Now widely available throughout the archipelago, Javanese cuisine features an array of simply seasoned dishes,</span>\n",
       "<span style=\"color: #008000; text-decoration-color: #008000\">the predominant flavorings the Javanese favor being peanuts, chillies, sugar (especially Javanese coconut sugar) </span>\n",
       "<span style=\"color: #008000; text-decoration-color: #008000\">and various aromatic spices.'</span>,\n",
       "    <span style=\"color: #008000; text-decoration-color: #008000\">'Since 1966 the Sundarbans have been a wildlife sanctuary, and it is estimated that there are now 400 Royal </span>\n",
       "<span style=\"color: #008000; text-decoration-color: #008000\">Bengal tigers and about 30,000 spotted deer in the area.'</span>,\n",
       "    <span style=\"color: #008000; text-decoration-color: #008000\">'The Great Pyramid at Giza is the only one of the seven wonders that is still standing today.'</span>,\n",
       "    <span style=\"color: #008000; text-decoration-color: #008000\">'Machu Picchu consist of three main structures, namely Intihuatana, the Temple of the Sun, and the Room of the </span>\n",
       "<span style=\"color: #008000; text-decoration-color: #008000\">Three Windows.'</span>,\n",
       "    <span style=\"color: #008000; text-decoration-color: #008000\">'The Kruger National Park (KNP) lies in the north-east of South Africa and runs along the border of Mozambique </span>\n",
       "<span style=\"color: #008000; text-decoration-color: #008000\">in the east, Zimbabwe in the north, and the southern border is the Crocodile River.'</span>,\n",
       "    <span style=\"color: #008000; text-decoration-color: #008000\">'Reindeer husbandry is an important livelihood among the Sámi and the culture surrounding the trade is </span>\n",
       "<span style=\"color: #008000; text-decoration-color: #008000\">important also for many with other professions.'</span>,\n",
       "    <span style=\"color: #008000; text-decoration-color: #008000\">'The Amazon River is the second longest and the biggest river on Earth. It carries more than 8 times as much </span>\n",
       "<span style=\"color: #008000; text-decoration-color: #008000\">water as the second biggest river.'</span>,\n",
       "    <span style=\"color: #008000; text-decoration-color: #008000\">'The Sundarbans are the largest littoral mangrove belt in the world, stretching 80 km (50 mi) into the </span>\n",
       "<span style=\"color: #008000; text-decoration-color: #008000\">Bangladeshi and Indian hinterland from the coast.'</span>,\n",
       "    <span style=\"color: #008000; text-decoration-color: #008000\">\"Taiwan beginning start way back in 15th century where European sailors passing by record the island's name as </span>\n",
       "<span style=\"color: #008000; text-decoration-color: #008000\">Ilha Formosa, or beautiful island.\"</span>,\n",
       "    <span style=\"color: #008000; text-decoration-color: #008000\">'There is no universal definition for which manufactured items are antiques. Some tax agencies define goods </span>\n",
       "<span style=\"color: #008000; text-decoration-color: #008000\">older than 100 years as antiques.'</span>\n",
       "<span style=\"font-weight: bold\">]</span>\n",
       "</pre>\n"
      ],
      "text/plain": [
       "\u001b[1m[\u001b[0m\n",
       "    \u001b[32m'Cherry blossom viewing, known as hanami, has been a part of Japanese culture since the 8th century.'\u001b[0m,\n",
       "    \u001b[32m'The Tibetan Buddhism is based on the teachings of Buddha, but were extended by the mahayana path of love and \u001b[0m\n",
       "\u001b[32mby a lot of techniques from Indian Yoga.'\u001b[0m,\n",
       "    \u001b[32m'The concept came from China where plum blossoms were the flower of choice.'\u001b[0m,\n",
       "    \u001b[32m'In Japan, the first cherry blossom parties were hosted by the emperor only for himself and other members of \u001b[0m\n",
       "\u001b[32mthe aristocracy around the Imperial Court.'\u001b[0m,\n",
       "    \u001b[32m'With 17,000 islands to choose from, Indonesian food is an umbrella term covering a vast variety of regional \u001b[0m\n",
       "\u001b[32mcuisines found across the nation.'\u001b[0m,\n",
       "    \u001b[32m'Now widely available throughout the archipelago, Javanese cuisine features an array of simply seasoned dishes,\u001b[0m\n",
       "\u001b[32mthe predominant flavorings the Javanese favor being peanuts, chillies, sugar \u001b[0m\u001b[32m(\u001b[0m\u001b[32mespecially Javanese coconut sugar\u001b[0m\u001b[32m)\u001b[0m\u001b[32m \u001b[0m\n",
       "\u001b[32mand various aromatic spices.'\u001b[0m,\n",
       "    \u001b[32m'Since 1966 the Sundarbans have been a wildlife sanctuary, and it is estimated that there are now 400 Royal \u001b[0m\n",
       "\u001b[32mBengal tigers and about 30,000 spotted deer in the area.'\u001b[0m,\n",
       "    \u001b[32m'The Great Pyramid at Giza is the only one of the seven wonders that is still standing today.'\u001b[0m,\n",
       "    \u001b[32m'Machu Picchu consist of three main structures, namely Intihuatana, the Temple of the Sun, and the Room of the \u001b[0m\n",
       "\u001b[32mThree Windows.'\u001b[0m,\n",
       "    \u001b[32m'The Kruger National Park \u001b[0m\u001b[32m(\u001b[0m\u001b[32mKNP\u001b[0m\u001b[32m)\u001b[0m\u001b[32m lies in the north-east of South Africa and runs along the border of Mozambique \u001b[0m\n",
       "\u001b[32min the east, Zimbabwe in the north, and the southern border is the Crocodile River.'\u001b[0m,\n",
       "    \u001b[32m'Reindeer husbandry is an important livelihood among the Sámi and the culture surrounding the trade is \u001b[0m\n",
       "\u001b[32mimportant also for many with other professions.'\u001b[0m,\n",
       "    \u001b[32m'The Amazon River is the second longest and the biggest river on Earth. It carries more than 8 times as much \u001b[0m\n",
       "\u001b[32mwater as the second biggest river.'\u001b[0m,\n",
       "    \u001b[32m'The Sundarbans are the largest littoral mangrove belt in the world, stretching 80 km \u001b[0m\u001b[32m(\u001b[0m\u001b[32m50 mi\u001b[0m\u001b[32m)\u001b[0m\u001b[32m into the \u001b[0m\n",
       "\u001b[32mBangladeshi and Indian hinterland from the coast.'\u001b[0m,\n",
       "    \u001b[32m\"Taiwan beginning start way back in 15th century where European sailors passing by record the island's name as \u001b[0m\n",
       "\u001b[32mIlha Formosa, or beautiful island.\"\u001b[0m,\n",
       "    \u001b[32m'There is no universal definition for which manufactured items are antiques. Some tax agencies define goods \u001b[0m\n",
       "\u001b[32molder than 100 years as antiques.'\u001b[0m\n",
       "\u001b[1m]\u001b[0m\n"
      ]
     },
     "metadata": {},
     "output_type": "display_data"
    }
   ],
   "source": [
    "eng = []\n",
    "\n",
    "for k,v in translations.items():\n",
    "    eng.append(k)\n",
    "\n",
    "print(eng)"
   ]
  }
 ],
 "metadata": {
  "kernelspec": {
   "display_name": "omscs-llm",
   "language": "python",
   "name": "python3"
  },
  "language_info": {
   "codemirror_mode": {
    "name": "ipython",
    "version": 3
   },
   "file_extension": ".py",
   "mimetype": "text/x-python",
   "name": "python",
   "nbconvert_exporter": "python",
   "pygments_lexer": "ipython3",
   "version": "3.10.16"
  }
 },
 "nbformat": 4,
 "nbformat_minor": 5
}
