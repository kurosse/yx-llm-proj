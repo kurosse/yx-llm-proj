{
 "cells": [
  {
   "cell_type": "markdown",
   "id": "17e0589e",
   "metadata": {},
   "source": [
    "## Generate Ratings"
   ]
  },
  {
   "cell_type": "code",
   "execution_count": 1,
   "id": "73339de8",
   "metadata": {},
   "outputs": [],
   "source": [
    "%load_ext autoreload\n",
    "%autoreload 2\n",
    "\n",
    "import json\n",
    "import os, sys\n",
    "ROOT = os.path.abspath(\"..\")\n",
    "sys.path.insert(0, ROOT)\n",
    "\n",
    "from rich import print\n",
    "from tqdm import tqdm\n",
    "\n",
    "from src.utils.trad_metrics import TradMetrics\n",
    "from lang_datasets.scripts.constants import LANGUAGES"
   ]
  },
  {
   "cell_type": "code",
   "execution_count": 2,
   "id": "6d94d1c9",
   "metadata": {},
   "outputs": [
    {
     "data": {
      "application/vnd.jupyter.widget-view+json": {
       "model_id": "6c87150a7ccd4b41bddac41f9479ad07",
       "version_major": 2,
       "version_minor": 0
      },
      "text/plain": [
       "Fetching 5 files:   0%|          | 0/5 [00:00<?, ?it/s]"
      ]
     },
     "metadata": {},
     "output_type": "display_data"
    },
    {
     "name": "stderr",
     "output_type": "stream",
     "text": [
      "Lightning automatically upgraded your loaded checkpoint from v1.8.3.post1 to v2.5.1.post0. To apply the upgrade to your files permanently, run `python -m pytorch_lightning.utilities.upgrade_checkpoint ../../../../../../../../../.cache/huggingface/hub/models--Unbabel--wmt22-comet-da/snapshots/2760a223ac957f30acfb18c8aa649b01cf1d75f2/checkpoints/model.ckpt`\n",
      "Encoder model frozen.\n",
      "/Users/yixiantan/opt/miniconda3/envs/omscs-llm/lib/python3.10/site-packages/pytorch_lightning/core/saving.py:195: Found keys that are not in the model state dict but in the checkpoint: ['encoder.model.embeddings.position_ids']\n"
     ]
    }
   ],
   "source": [
    "trad_metrics = TradMetrics()"
   ]
  },
  {
   "cell_type": "code",
   "execution_count": 3,
   "id": "c2cb819c",
   "metadata": {},
   "outputs": [],
   "source": [
    "RATINGS_FILE = \"../ratings/flores200-ratings.json\"\n",
    "TRANSLATIONS_FILE = \"../lang_datasets/sample_dataset/flores_sample_translations.json\"\n",
    "\n",
    "CANDIDATE_MAP = {\n",
    "    \"candidate_1\": \"google_translate\",\n",
    "    \"candidate_2\": \"nllb_translate\",\n",
    "    \"candidate_3\": \"llm_translate\",\n",
    "}\n",
    "\n",
    "with open(RATINGS_FILE, \"r\", encoding=\"utf-8\") as f:\n",
    "    ratings = json.load(f)\n",
    "\n",
    "with open(TRANSLATIONS_FILE, \"r\", encoding=\"utf-8\") as f:\n",
    "    translations = json.load(f)"
   ]
  },
  {
   "cell_type": "code",
   "execution_count": 4,
   "id": "25526e70",
   "metadata": {},
   "outputs": [],
   "source": [
    "# Per language model rating\n",
    "def get_candidate_ratings(candidate_id, languages):\n",
    "\n",
    "    candidate_ratings = {\n",
    "        candidate_id: {\n",
    "            language: {\n",
    "                \"sentence_bleu\": {\"scores\": [], \"avg\": None},\n",
    "                \"chrf\": {\"scores\": [], \"avg\": None},\n",
    "                \"comet\": {\"scores\": [], \"avg\": None},\n",
    "            }\n",
    "            for language in languages\n",
    "        }\n",
    "    }\n",
    "\n",
    "    for data in tqdm(ratings):\n",
    "        curr_lang = data[\"language_code\"]\n",
    "        source_sentence = data[\"source_sentence\"]\n",
    "        reference_sentence = data[\"original_english_text\"]\n",
    "        for candidate in data[\"candidate_sentence_evaluations\"]:\n",
    "            if candidate[\"candidate_id\"] != candidate_id:\n",
    "                continue\n",
    "\n",
    "            candidate_sentence = candidate[\"candidate_sentence\"]\n",
    "            review_all_scores = trad_metrics.review_all_models(\n",
    "                [candidate_sentence], reference_sentence, source_sentence\n",
    "            )\n",
    "\n",
    "        # Append the scores to the candidate ratings\n",
    "        candidate_ratings[candidate_id][curr_lang][\"sentence_bleu\"][\"scores\"].append(\n",
    "            {\n",
    "                \"score\": review_all_scores[\"sentence_bleu\"][0],\n",
    "                \"translation\": candidate_sentence,\n",
    "            }\n",
    "        )\n",
    "        candidate_ratings[candidate_id][curr_lang][\"chrf\"][\"scores\"].append(\n",
    "            {\"score\": review_all_scores[\"chrf\"][0], \"translation\": candidate_sentence}\n",
    "        )\n",
    "        candidate_ratings[candidate_id][curr_lang][\"comet\"][\"scores\"].append(\n",
    "            {\"score\": review_all_scores[\"comet\"][0], \"translation\": candidate_sentence}\n",
    "        )\n",
    "\n",
    "        # Update the average scores\n",
    "        curr_bleu_score_sum = sum(\n",
    "            score[\"score\"]\n",
    "            for score in candidate_ratings[candidate_id][curr_lang][\"sentence_bleu\"][\n",
    "                \"scores\"\n",
    "            ]\n",
    "        )\n",
    "        curr_chrf_score_sum = sum(\n",
    "            score[\"score\"]\n",
    "            for score in candidate_ratings[candidate_id][curr_lang][\"chrf\"][\"scores\"]\n",
    "        )\n",
    "        curr_comet_score_sum = sum(\n",
    "            score[\"score\"]\n",
    "            for score in candidate_ratings[candidate_id][curr_lang][\"comet\"][\"scores\"]\n",
    "        )\n",
    "\n",
    "        candidate_ratings[candidate_id][curr_lang][\"sentence_bleu\"][\"avg\"] = (\n",
    "            curr_bleu_score_sum\n",
    "            / len(candidate_ratings[candidate_id][curr_lang][\"sentence_bleu\"][\"scores\"])\n",
    "        )\n",
    "        candidate_ratings[candidate_id][curr_lang][\"chrf\"][\"avg\"] = (\n",
    "            curr_chrf_score_sum\n",
    "            / len(candidate_ratings[candidate_id][curr_lang][\"chrf\"][\"scores\"])\n",
    "        )\n",
    "        candidate_ratings[candidate_id][curr_lang][\"comet\"][\"avg\"] = (\n",
    "            curr_comet_score_sum\n",
    "            / len(candidate_ratings[candidate_id][curr_lang][\"comet\"][\"scores\"])\n",
    "        )\n",
    "\n",
    "    return candidate_ratings"
   ]
  },
  {
   "cell_type": "code",
   "execution_count": 6,
   "id": "caa1de9b",
   "metadata": {},
   "outputs": [],
   "source": [
    "OUTPUT_PATH = \"../ratings/\"\n",
    "cands_output_files = [\"google_ratings.json\", \"nllb_ratings.json\", \"llm_ratings.json\", \"alt_bench_ratings.json\"]"
   ]
  },
  {
   "cell_type": "code",
   "execution_count": 7,
   "id": "b130867d",
   "metadata": {},
   "outputs": [
    {
     "data": {
      "text/html": [
       "<pre style=\"white-space:pre;overflow-x:auto;line-height:normal;font-family:Menlo,'DejaVu Sans Mono',consolas,'Courier New',monospace\">All ratings files already exist, skipping generation<span style=\"color: #808000; text-decoration-color: #808000\">...</span>\n",
       "</pre>\n"
      ],
      "text/plain": [
       "All ratings files already exist, skipping generation\u001b[33m...\u001b[0m\n"
      ]
     },
     "metadata": {},
     "output_type": "display_data"
    }
   ],
   "source": [
    "def generate_ratings(): \n",
    "    for cands_output_file in cands_output_files:\n",
    "        file_output_path = os.path.join(OUTPUT_PATH, cands_output_file)\n",
    "\n",
    "        # As long as the output file does not exist, we will write the ratings to the file\n",
    "        if not os.path.exists(file_output_path):\n",
    "\n",
    "            print(f\"{cands_output_file} does not exist, generating ratings for all...\")\n",
    "\n",
    "            google_trans_ratings = get_candidate_ratings(\"candidate_1\", LANGUAGES.keys())\n",
    "            nllb_trans_ratings = get_candidate_ratings(\"candidate_2\", LANGUAGES.keys()) \n",
    "            llm_trans_ratings = get_candidate_ratings(\"candidate_3\", LANGUAGES.keys())\n",
    "\n",
    "            with open(os.path.join(f\"{OUTPUT_PATH}/google_ratings.json\"), \"w\", encoding=\"utf-8\") as f:\n",
    "                json.dump(google_trans_ratings, f, indent=4, ensure_ascii=False)\n",
    "\n",
    "            with open(os.path.join(f\"{OUTPUT_PATH}/nllb_ratings.json\"), \"w\", encoding=\"utf-8\") as f:\n",
    "                json.dump(nllb_trans_ratings, f, indent=4, ensure_ascii=False)\n",
    "\n",
    "            with open(os.path.join(f\"{OUTPUT_PATH}/llm_ratings.json\"), \"w\", encoding=\"utf-8\") as f:\n",
    "                json.dump(llm_trans_ratings, f, indent=4, ensure_ascii=False)\n",
    "\n",
    "            # with open(os.path.join(f\"{OUTPUT_PATH}/alt_bench_ratings.json\"), \"w\", encoding=\"utf-8\") as f:\n",
    "            #     json.dump(alt_bench_ratings, f, indent=4, ensure_ascii=False)\n",
    "            \n",
    "            return\n",
    "    \n",
    "    print(\"All ratings files already exist, skipping generation...\")\n",
    "\n",
    "generate_ratings()"
   ]
  },
  {
   "cell_type": "markdown",
   "id": "5a5c9b33",
   "metadata": {},
   "source": [
    "## Data Analysis on Ratings"
   ]
  },
  {
   "cell_type": "code",
   "execution_count": 29,
   "id": "ba80d417",
   "metadata": {},
   "outputs": [
    {
     "name": "stdout",
     "output_type": "stream",
     "text": [
      "The autoreload extension is already loaded. To reload it, use:\n",
      "  %reload_ext autoreload\n"
     ]
    }
   ],
   "source": [
    "%load_ext autoreload\n",
    "%autoreload 2\n",
    "\n",
    "import json\n",
    "import os, sys\n",
    "ROOT = os.path.abspath(\"..\")\n",
    "sys.path.insert(0, ROOT)\n",
    "\n",
    "from rich import print\n",
    "from tqdm import tqdm\n",
    "import pandas as pd\n",
    "import seaborn as sns\n",
    "\n",
    "from src.utils.trad_metrics import TradMetrics\n",
    "from src.utils.plot_utils import plot_ratings_graph\n",
    "from lang_datasets.scripts.constants import LANGUAGES"
   ]
  },
  {
   "cell_type": "code",
   "execution_count": 30,
   "id": "f42c213a",
   "metadata": {},
   "outputs": [],
   "source": [
    "OUTPUT_PATH = \"../ratings/\"\n",
    "cands_output_files = [\"google_ratings.json\", \"nllb_ratings.json\", \"llm_ratings.json\", \"alt_bench_ratings.json\"]"
   ]
  },
  {
   "cell_type": "code",
   "execution_count": 31,
   "id": "c4f74ff4",
   "metadata": {},
   "outputs": [],
   "source": [
    "# Read Google ratings\n",
    "with open(os.path.join(OUTPUT_PATH, \"google_ratings.json\"), \"r\", encoding=\"utf-8\") as f:\n",
    "    google_trans_ratings = json.load(f)\n",
    "\n",
    "# Read NLLB ratings\n",
    "with open(os.path.join(OUTPUT_PATH, \"nllb_ratings.json\"), \"r\", encoding=\"utf-8\") as f:\n",
    "    nllb_trans_ratings = json.load(f)\n",
    "\n",
    "# Read LLM ratings\n",
    "with open(os.path.join(OUTPUT_PATH, \"llm_ratings.json\"), \"r\", encoding=\"utf-8\") as f:\n",
    "    llm_trans_ratings = json.load(f)\n",
    "\n",
    "all_ratings = [google_trans_ratings, nllb_trans_ratings, llm_trans_ratings]"
   ]
  },
  {
   "cell_type": "code",
   "execution_count": 47,
   "id": "46a4eeb7",
   "metadata": {},
   "outputs": [],
   "source": [
    "rating_rows = []\n",
    "\n",
    "CANDIDATE_MAP = {\n",
    "    \"candidate_1\": \"Google\",\n",
    "    \"candidate_2\": \"NLLB\",\n",
    "    \"candidate_3\": \"LLM\",\n",
    "}\n",
    "\n",
    "for rating in all_ratings:\n",
    "    for candidate_id, candidate_ratings in rating.items():\n",
    "        for language, scores in candidate_ratings.items():\n",
    "            rating_rows.append({\n",
    "                \"candidate\": CANDIDATE_MAP[candidate_id],\n",
    "                \"language\": language,\n",
    "                \"sentence_bleu\": scores[\"sentence_bleu\"][\"avg\"],\n",
    "                \"cHRF\": scores[\"chrf\"][\"avg\"],\n",
    "                \"COMET\": scores[\"comet\"][\"avg\"] * 100\n",
    "            })\n",
    "\n",
    "ratings_df = pd.DataFrame(rating_rows)"
   ]
  },
  {
   "cell_type": "code",
   "execution_count": 55,
   "id": "de17297b",
   "metadata": {},
   "outputs": [
    {
     "data": {
      "application/vnd.microsoft.datawrangler.viewer.v0+json": {
       "columns": [
        {
         "name": "index",
         "rawType": "int64",
         "type": "integer"
        },
        {
         "name": "candidate",
         "rawType": "object",
         "type": "string"
        },
        {
         "name": "language",
         "rawType": "object",
         "type": "string"
        },
        {
         "name": "sentence_bleu",
         "rawType": "float64",
         "type": "float"
        },
        {
         "name": "cHRF",
         "rawType": "float64",
         "type": "float"
        },
        {
         "name": "COMET",
         "rawType": "float64",
         "type": "float"
        }
       ],
       "ref": "b0e4453d-36e8-41f2-af50-0c5db77ea320",
       "rows": [
        [
         "0",
         "Google",
         "zho_Hans",
         "27.672340502739527",
         "59.44561147729646",
         "87.7891727288564"
        ],
        [
         "1",
         "Google",
         "jpn_Jpan",
         "24.389939501825754",
         "58.18624253147339",
         "87.34127600987752"
        ],
        [
         "2",
         "Google",
         "vie_Latn",
         "26.54691596087934",
         "59.37244144051995",
         "85.86312413215637"
        ],
        [
         "3",
         "Google",
         "ind_Latn",
         "31.176223809145327",
         "62.45569314152387",
         "86.78903301556905"
        ],
        [
         "4",
         "Google",
         "tgl_Latn",
         "31.76185770322201",
         "61.53064243167402",
         "80.50525665283203"
        ],
        [
         "5",
         "Google",
         "tha_Thai",
         "20.69937094040437",
         "52.48666901884833",
         "82.20869382222493"
        ],
        [
         "6",
         "Google",
         "tso_Latn",
         "19.77717265704943",
         "44.29104407217169",
         "62.17235724131266"
        ],
        [
         "7",
         "Google",
         "amh_Ethi",
         "18.483542714411694",
         "45.755685100346774",
         "72.50360012054443"
        ],
        [
         "8",
         "NLLB",
         "zho_Hans",
         "29.832641065310494",
         "59.151134369609515",
         "85.84025025367737"
        ],
        [
         "9",
         "NLLB",
         "jpn_Jpan",
         "26.57802769097489",
         "57.05433989964282",
         "87.04734285672505"
        ],
        [
         "10",
         "NLLB",
         "vie_Latn",
         "40.301107883920444",
         "67.13306254453252",
         "88.98167133331299"
        ],
        [
         "11",
         "NLLB",
         "ind_Latn",
         "48.019880495180395",
         "70.27533132595245",
         "89.24450635910034"
        ],
        [
         "12",
         "NLLB",
         "tgl_Latn",
         "53.79500299797503",
         "72.49253668030305",
         "88.0861779054006"
        ],
        [
         "13",
         "NLLB",
         "tha_Thai",
         "29.784655097520737",
         "57.21568190495792",
         "87.62791832288106"
        ],
        [
         "14",
         "NLLB",
         "tso_Latn",
         "31.717769069915548",
         "56.07016818545367",
         "76.85628135999045"
        ],
        [
         "15",
         "NLLB",
         "amh_Ethi",
         "31.0427709311469",
         "60.20543526689351",
         "85.51652153333028"
        ],
        [
         "16",
         "LLM",
         "zho_Hans",
         "24.476695546758517",
         "61.24489105920468",
         "88.35395018259685"
        ],
        [
         "17",
         "LLM",
         "jpn_Jpan",
         "27.584834725920512",
         "60.51019503585505",
         "89.0536896387736"
        ],
        [
         "18",
         "LLM",
         "vie_Latn",
         "37.23321706449245",
         "66.26800482430423",
         "89.54466342926025"
        ],
        [
         "19",
         "LLM",
         "ind_Latn",
         "48.456264337672486",
         "74.24628170495741",
         "91.31303469340007"
        ],
        [
         "20",
         "LLM",
         "tgl_Latn",
         "50.82462351132677",
         "73.7129468254107",
         "89.49925978978474"
        ],
        [
         "21",
         "LLM",
         "tha_Thai",
         "31.62977319422138",
         "63.56124412820039",
         "88.69865417480469"
        ],
        [
         "22",
         "LLM",
         "tso_Latn",
         "24.365791965730804",
         "50.061478634726036",
         "72.23745067914327"
        ],
        [
         "23",
         "LLM",
         "amh_Ethi",
         "31.228378315556675",
         "60.78702846041459",
         "86.20387236277263"
        ]
       ],
       "shape": {
        "columns": 5,
        "rows": 24
       }
      },
      "text/html": [
       "<div>\n",
       "<style scoped>\n",
       "    .dataframe tbody tr th:only-of-type {\n",
       "        vertical-align: middle;\n",
       "    }\n",
       "\n",
       "    .dataframe tbody tr th {\n",
       "        vertical-align: top;\n",
       "    }\n",
       "\n",
       "    .dataframe thead th {\n",
       "        text-align: right;\n",
       "    }\n",
       "</style>\n",
       "<table border=\"1\" class=\"dataframe\">\n",
       "  <thead>\n",
       "    <tr style=\"text-align: right;\">\n",
       "      <th></th>\n",
       "      <th>candidate</th>\n",
       "      <th>language</th>\n",
       "      <th>sentence_bleu</th>\n",
       "      <th>cHRF</th>\n",
       "      <th>COMET</th>\n",
       "    </tr>\n",
       "  </thead>\n",
       "  <tbody>\n",
       "    <tr>\n",
       "      <th>0</th>\n",
       "      <td>Google</td>\n",
       "      <td>zho_Hans</td>\n",
       "      <td>27.672341</td>\n",
       "      <td>59.445611</td>\n",
       "      <td>87.789173</td>\n",
       "    </tr>\n",
       "    <tr>\n",
       "      <th>1</th>\n",
       "      <td>Google</td>\n",
       "      <td>jpn_Jpan</td>\n",
       "      <td>24.389940</td>\n",
       "      <td>58.186243</td>\n",
       "      <td>87.341276</td>\n",
       "    </tr>\n",
       "    <tr>\n",
       "      <th>2</th>\n",
       "      <td>Google</td>\n",
       "      <td>vie_Latn</td>\n",
       "      <td>26.546916</td>\n",
       "      <td>59.372441</td>\n",
       "      <td>85.863124</td>\n",
       "    </tr>\n",
       "    <tr>\n",
       "      <th>3</th>\n",
       "      <td>Google</td>\n",
       "      <td>ind_Latn</td>\n",
       "      <td>31.176224</td>\n",
       "      <td>62.455693</td>\n",
       "      <td>86.789033</td>\n",
       "    </tr>\n",
       "    <tr>\n",
       "      <th>4</th>\n",
       "      <td>Google</td>\n",
       "      <td>tgl_Latn</td>\n",
       "      <td>31.761858</td>\n",
       "      <td>61.530642</td>\n",
       "      <td>80.505257</td>\n",
       "    </tr>\n",
       "    <tr>\n",
       "      <th>5</th>\n",
       "      <td>Google</td>\n",
       "      <td>tha_Thai</td>\n",
       "      <td>20.699371</td>\n",
       "      <td>52.486669</td>\n",
       "      <td>82.208694</td>\n",
       "    </tr>\n",
       "    <tr>\n",
       "      <th>6</th>\n",
       "      <td>Google</td>\n",
       "      <td>tso_Latn</td>\n",
       "      <td>19.777173</td>\n",
       "      <td>44.291044</td>\n",
       "      <td>62.172357</td>\n",
       "    </tr>\n",
       "    <tr>\n",
       "      <th>7</th>\n",
       "      <td>Google</td>\n",
       "      <td>amh_Ethi</td>\n",
       "      <td>18.483543</td>\n",
       "      <td>45.755685</td>\n",
       "      <td>72.503600</td>\n",
       "    </tr>\n",
       "    <tr>\n",
       "      <th>8</th>\n",
       "      <td>NLLB</td>\n",
       "      <td>zho_Hans</td>\n",
       "      <td>29.832641</td>\n",
       "      <td>59.151134</td>\n",
       "      <td>85.840250</td>\n",
       "    </tr>\n",
       "    <tr>\n",
       "      <th>9</th>\n",
       "      <td>NLLB</td>\n",
       "      <td>jpn_Jpan</td>\n",
       "      <td>26.578028</td>\n",
       "      <td>57.054340</td>\n",
       "      <td>87.047343</td>\n",
       "    </tr>\n",
       "    <tr>\n",
       "      <th>10</th>\n",
       "      <td>NLLB</td>\n",
       "      <td>vie_Latn</td>\n",
       "      <td>40.301108</td>\n",
       "      <td>67.133063</td>\n",
       "      <td>88.981671</td>\n",
       "    </tr>\n",
       "    <tr>\n",
       "      <th>11</th>\n",
       "      <td>NLLB</td>\n",
       "      <td>ind_Latn</td>\n",
       "      <td>48.019880</td>\n",
       "      <td>70.275331</td>\n",
       "      <td>89.244506</td>\n",
       "    </tr>\n",
       "    <tr>\n",
       "      <th>12</th>\n",
       "      <td>NLLB</td>\n",
       "      <td>tgl_Latn</td>\n",
       "      <td>53.795003</td>\n",
       "      <td>72.492537</td>\n",
       "      <td>88.086178</td>\n",
       "    </tr>\n",
       "    <tr>\n",
       "      <th>13</th>\n",
       "      <td>NLLB</td>\n",
       "      <td>tha_Thai</td>\n",
       "      <td>29.784655</td>\n",
       "      <td>57.215682</td>\n",
       "      <td>87.627918</td>\n",
       "    </tr>\n",
       "    <tr>\n",
       "      <th>14</th>\n",
       "      <td>NLLB</td>\n",
       "      <td>tso_Latn</td>\n",
       "      <td>31.717769</td>\n",
       "      <td>56.070168</td>\n",
       "      <td>76.856281</td>\n",
       "    </tr>\n",
       "    <tr>\n",
       "      <th>15</th>\n",
       "      <td>NLLB</td>\n",
       "      <td>amh_Ethi</td>\n",
       "      <td>31.042771</td>\n",
       "      <td>60.205435</td>\n",
       "      <td>85.516522</td>\n",
       "    </tr>\n",
       "    <tr>\n",
       "      <th>16</th>\n",
       "      <td>LLM</td>\n",
       "      <td>zho_Hans</td>\n",
       "      <td>24.476696</td>\n",
       "      <td>61.244891</td>\n",
       "      <td>88.353950</td>\n",
       "    </tr>\n",
       "    <tr>\n",
       "      <th>17</th>\n",
       "      <td>LLM</td>\n",
       "      <td>jpn_Jpan</td>\n",
       "      <td>27.584835</td>\n",
       "      <td>60.510195</td>\n",
       "      <td>89.053690</td>\n",
       "    </tr>\n",
       "    <tr>\n",
       "      <th>18</th>\n",
       "      <td>LLM</td>\n",
       "      <td>vie_Latn</td>\n",
       "      <td>37.233217</td>\n",
       "      <td>66.268005</td>\n",
       "      <td>89.544663</td>\n",
       "    </tr>\n",
       "    <tr>\n",
       "      <th>19</th>\n",
       "      <td>LLM</td>\n",
       "      <td>ind_Latn</td>\n",
       "      <td>48.456264</td>\n",
       "      <td>74.246282</td>\n",
       "      <td>91.313035</td>\n",
       "    </tr>\n",
       "    <tr>\n",
       "      <th>20</th>\n",
       "      <td>LLM</td>\n",
       "      <td>tgl_Latn</td>\n",
       "      <td>50.824624</td>\n",
       "      <td>73.712947</td>\n",
       "      <td>89.499260</td>\n",
       "    </tr>\n",
       "    <tr>\n",
       "      <th>21</th>\n",
       "      <td>LLM</td>\n",
       "      <td>tha_Thai</td>\n",
       "      <td>31.629773</td>\n",
       "      <td>63.561244</td>\n",
       "      <td>88.698654</td>\n",
       "    </tr>\n",
       "    <tr>\n",
       "      <th>22</th>\n",
       "      <td>LLM</td>\n",
       "      <td>tso_Latn</td>\n",
       "      <td>24.365792</td>\n",
       "      <td>50.061479</td>\n",
       "      <td>72.237451</td>\n",
       "    </tr>\n",
       "    <tr>\n",
       "      <th>23</th>\n",
       "      <td>LLM</td>\n",
       "      <td>amh_Ethi</td>\n",
       "      <td>31.228378</td>\n",
       "      <td>60.787028</td>\n",
       "      <td>86.203872</td>\n",
       "    </tr>\n",
       "  </tbody>\n",
       "</table>\n",
       "</div>"
      ],
      "text/plain": [
       "   candidate  language  sentence_bleu       cHRF      COMET\n",
       "0     Google  zho_Hans      27.672341  59.445611  87.789173\n",
       "1     Google  jpn_Jpan      24.389940  58.186243  87.341276\n",
       "2     Google  vie_Latn      26.546916  59.372441  85.863124\n",
       "3     Google  ind_Latn      31.176224  62.455693  86.789033\n",
       "4     Google  tgl_Latn      31.761858  61.530642  80.505257\n",
       "5     Google  tha_Thai      20.699371  52.486669  82.208694\n",
       "6     Google  tso_Latn      19.777173  44.291044  62.172357\n",
       "7     Google  amh_Ethi      18.483543  45.755685  72.503600\n",
       "8       NLLB  zho_Hans      29.832641  59.151134  85.840250\n",
       "9       NLLB  jpn_Jpan      26.578028  57.054340  87.047343\n",
       "10      NLLB  vie_Latn      40.301108  67.133063  88.981671\n",
       "11      NLLB  ind_Latn      48.019880  70.275331  89.244506\n",
       "12      NLLB  tgl_Latn      53.795003  72.492537  88.086178\n",
       "13      NLLB  tha_Thai      29.784655  57.215682  87.627918\n",
       "14      NLLB  tso_Latn      31.717769  56.070168  76.856281\n",
       "15      NLLB  amh_Ethi      31.042771  60.205435  85.516522\n",
       "16       LLM  zho_Hans      24.476696  61.244891  88.353950\n",
       "17       LLM  jpn_Jpan      27.584835  60.510195  89.053690\n",
       "18       LLM  vie_Latn      37.233217  66.268005  89.544663\n",
       "19       LLM  ind_Latn      48.456264  74.246282  91.313035\n",
       "20       LLM  tgl_Latn      50.824624  73.712947  89.499260\n",
       "21       LLM  tha_Thai      31.629773  63.561244  88.698654\n",
       "22       LLM  tso_Latn      24.365792  50.061479  72.237451\n",
       "23       LLM  amh_Ethi      31.228378  60.787028  86.203872"
      ]
     },
     "execution_count": 55,
     "metadata": {},
     "output_type": "execute_result"
    }
   ],
   "source": [
    "ratings_df"
   ]
  },
  {
   "cell_type": "code",
   "execution_count": 58,
   "id": "9a520ab2",
   "metadata": {},
   "outputs": [
    {
     "data": {
      "image/png": "[encoded data removed]",
      "text/plain": [
       "<Figure size 700x350 with 1 Axes>"
      ]
     },
     "metadata": {},
     "output_type": "display_data"
    },
    {
     "data": {
      "image/png": "[encoded data removed]",
      "text/plain": [
       "<Figure size 700x350 with 1 Axes>"
      ]
     },
     "metadata": {},
     "output_type": "display_data"
    },
    {
     "data": {
      "image/png": "[encoded data removed]",
      "text/plain": [
       "<Figure size 700x350 with 1 Axes>"
      ]
     },
     "metadata": {},
     "output_type": "display_data"
    }
   ],
   "source": [
    "plot_ratings_graph(ratings_df, x=\"language\", y=\"sentence_bleu\")\n",
    "plot_ratings_graph(ratings_df, x=\"language\", y=\"cHRF\", save_path=\"../images/chrf_scores.png\")\n",
    "plot_ratings_graph(ratings_df, x=\"language\", y=\"COMET\", save_path=\"../images/comet_scores.png\")"
   ]
  },
  {
   "cell_type": "code",
   "execution_count": null,
   "id": "942b4006",
   "metadata": {},
   "outputs": [],
   "source": []
  }
 ],
 "metadata": {
  "kernelspec": {
   "display_name": "omscs-llm",
   "language": "python",
   "name": "python3"
  },
  "language_info": {
   "codemirror_mode": {
    "name": "ipython",
    "version": 3
   },
   "file_extension": ".py",
   "mimetype": "text/x-python",
   "name": "python",
   "nbconvert_exporter": "python",
   "pygments_lexer": "ipython3",
   "version": "3.10.16"
  }
 },
 "nbformat": 4,
 "nbformat_minor": 5
}
