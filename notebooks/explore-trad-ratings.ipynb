{
 "cells": [
  {
   "cell_type": "markdown",
   "id": "17e0589e",
   "metadata": {},
   "source": [
    "## Generate Ratings"
   ]
  },
  {
   "cell_type": "code",
   "execution_count": 4,
   "id": "73339de8",
   "metadata": {},
   "outputs": [],
   "source": [
    "%load_ext autoreload\n",
    "%autoreload 2\n",
    "\n",
    "import json\n",
    "import os, sys\n",
    "ROOT = os.path.abspath(\"..\")\n",
    "sys.path.insert(0, ROOT)\n",
    "\n",
    "from rich import print\n",
    "from tqdm import tqdm\n",
    "\n",
    "from src.utils.trad_metrics import TradMetrics\n",
    "from lang_datasets.scripts.constants import LANGUAGES"
   ]
  },
  {
   "cell_type": "code",
   "execution_count": 12,
   "id": "6d94d1c9",
   "metadata": {},
   "outputs": [
    {
     "data": {
      "application/vnd.jupyter.widget-view+json": {
       "model_id": "c539426bf42942abbe5e44d21fd26426",
       "version_major": 2,
       "version_minor": 0
      },
      "text/plain": [
       "Fetching 5 files:   0%|          | 0/5 [00:00<?, ?it/s]"
      ]
     },
     "metadata": {},
     "output_type": "display_data"
    },
    {
     "name": "stderr",
     "output_type": "stream",
     "text": [
      "Lightning automatically upgraded your loaded checkpoint from v1.8.3.post1 to v2.5.1.post0. To apply the upgrade to your files permanently, run `python -m pytorch_lightning.utilities.upgrade_checkpoint ../../../../../../../../../.cache/huggingface/hub/models--Unbabel--wmt22-comet-da/snapshots/2760a223ac957f30acfb18c8aa649b01cf1d75f2/checkpoints/model.ckpt`\n",
      "Encoder model frozen.\n",
      "/Users/yixiantan/opt/miniconda3/envs/omscs-llm/lib/python3.10/site-packages/pytorch_lightning/core/saving.py:195: Found keys that are not in the model state dict but in the checkpoint: ['encoder.model.embeddings.position_ids']\n"
     ]
    }
   ],
   "source": [
    "trad_metrics = TradMetrics()"
   ]
  },
  {
   "cell_type": "code",
   "execution_count": 13,
   "id": "c2cb819c",
   "metadata": {},
   "outputs": [],
   "source": [
    "RATINGS_FILE = \"../ratings/flores200-ratings.json\"\n",
    "TRANSLATIONS_FILE = \"../lang_datasets/flores200_dataset/flores_sample_translations.json\"\n",
    "\n",
    "CANDIDATE_MAP = {\n",
    "    \"candidate_1\": \"google_translate\",\n",
    "    \"candidate_2\": \"nllb_translate\",\n",
    "    \"candidate_3\": \"llm_translate\",\n",
    "}\n",
    "\n",
    "with open(RATINGS_FILE, \"r\", encoding=\"utf-8\") as f:\n",
    "    ratings = json.load(f)\n",
    "\n",
    "with open(TRANSLATIONS_FILE, \"r\", encoding=\"utf-8\") as f:\n",
    "    translations = json.load(f)"
   ]
  },
  {
   "cell_type": "code",
   "execution_count": null,
   "id": "25526e70",
   "metadata": {},
   "outputs": [
    {
     "name": "stderr",
     "output_type": "stream",
     "text": [
      "100%|██████████| 90/90 [01:09<00:00,  1.30it/s]\n",
      "100%|██████████| 90/90 [01:06<00:00,  1.35it/s]\n",
      "100%|██████████| 90/90 [01:03<00:00,  1.43it/s]\n"
     ]
    }
   ],
   "source": [
    "# Per language model rating\n",
    "def get_candidate_ratings(candidate_id, languages):\n",
    "\n",
    "    candidate_ratings = {\n",
    "        candidate_id: {\n",
    "            language: {\n",
    "                \"sentence_bleu\": {\"scores\": [], \"avg\": None},\n",
    "                \"chrf\": {\"scores\": [], \"avg\": None},\n",
    "                \"comet\": {\"scores\": [], \"avg\": None},\n",
    "            }\n",
    "            for language in languages\n",
    "        }\n",
    "    }\n",
    "\n",
    "    for data in tqdm(ratings):\n",
    "        curr_lang = data[\"language_code\"]\n",
    "        source_sentence = data[\"source_sentence\"]\n",
    "        reference_sentence = data[\"original_english_text\"]\n",
    "        for candidate in data[\"candidate_sentence_evaluations\"]:\n",
    "            if candidate[\"candidate_id\"] != candidate_id:\n",
    "                continue\n",
    "\n",
    "            candidate_sentence = candidate[\"candidate_sentence\"]\n",
    "            review_all_scores = trad_metrics.review_all_models(\n",
    "                [candidate_sentence], reference_sentence, source_sentence\n",
    "            )\n",
    "\n",
    "        # Append the scores to the candidate ratings\n",
    "        candidate_ratings[candidate_id][curr_lang][\"sentence_bleu\"][\"scores\"].append(\n",
    "            review_all_scores[\"sentence_bleu\"][0]\n",
    "        )\n",
    "        candidate_ratings[candidate_id][curr_lang][\"chrf\"][\"scores\"].append(\n",
    "            review_all_scores[\"chrf\"][0]\n",
    "        )\n",
    "        candidate_ratings[candidate_id][curr_lang][\"comet\"][\"scores\"].append(\n",
    "            review_all_scores[\"comet\"][0]\n",
    "        )\n",
    "\n",
    "        # Update the average scores\n",
    "        candidate_ratings[candidate_id][curr_lang][\"sentence_bleu\"][\"avg\"] = (\n",
    "            sum(candidate_ratings[candidate_id][curr_lang][\"sentence_bleu\"][\"scores\"]) /\n",
    "            len(candidate_ratings[candidate_id][curr_lang][\"sentence_bleu\"][\"scores\"])\n",
    "        )\n",
    "        candidate_ratings[candidate_id][curr_lang][\"chrf\"][\"avg\"] = (\n",
    "            sum(candidate_ratings[candidate_id][curr_lang][\"chrf\"][\"scores\"]) /\n",
    "            len(candidate_ratings[candidate_id][curr_lang][\"chrf\"][\"scores\"])\n",
    "        )\n",
    "        candidate_ratings[candidate_id][curr_lang][\"comet\"][\"avg\"] = (\n",
    "            sum(candidate_ratings[candidate_id][curr_lang][\"comet\"][\"scores\"]) /\n",
    "            len(candidate_ratings[candidate_id][curr_lang][\"comet\"][\"scores\"])\n",
    "        )\n",
    "\n",
    "    return candidate_ratings"
   ]
  },
  {
   "cell_type": "code",
   "execution_count": 17,
   "id": "5371af9e",
   "metadata": {},
   "outputs": [],
   "source": [
    "# Best candidate from ALT-Bench ratings\n",
    "\n",
    "alt_bench_ratings = {\n",
    "    language: {\n",
    "        \"best_candidate\": None,\n",
    "        \"sentence_bleu\": {\"scores\": [], \"avg\": None},\n",
    "        \"chrf\": {\"scores\": [], \"avg\": None},\n",
    "        \"comet\": {\"scores\": [], \"avg\": None},\n",
    "    }\n",
    "    for language in LANGUAGES.keys()\n",
    "}\n",
    "\n",
    "for data in ratings:\n",
    "    curr_lang = data[\"language_code\"]\n",
    "    source_sentence = data[\"source_sentence\"]\n",
    "    reference_sentence = data[\"original_english_text\"]\n",
    "    best_candidate_id_and_sentence = data[\"best_candidate_id_and_sentence\"]\n",
    "    best_candidate_id = best_candidate_id_and_sentence[0:11]\n",
    "    best_candidate_sentence = best_candidate_id_and_sentence[13:]\n",
    "\n",
    "    review_all_scores = trad_metrics.review_all_models(\n",
    "        [best_candidate_sentence], reference_sentence, source_sentence\n",
    "    )\n",
    "\n",
    "    alt_bench_ratings[curr_lang][\"best_candidate\"] = best_candidate_id\n",
    "    alt_bench_ratings[curr_lang][\"sentence_bleu\"][\"scores\"].append(\n",
    "        review_all_scores[\"sentence_bleu\"][0]\n",
    "    )\n",
    "    alt_bench_ratings[curr_lang][\"chrf\"][\"scores\"].append(review_all_scores[\"chrf\"][0])\n",
    "    alt_bench_ratings[curr_lang][\"comet\"][\"scores\"].append(\n",
    "        review_all_scores[\"comet\"][0]\n",
    "    )\n",
    "\n",
    "    # Update the average scores\n",
    "    alt_bench_ratings[curr_lang][\"sentence_bleu\"][\"avg\"] = sum(\n",
    "        alt_bench_ratings[curr_lang][\"sentence_bleu\"][\"scores\"]\n",
    "    ) / len(alt_bench_ratings[curr_lang][\"sentence_bleu\"][\"scores\"])\n",
    "    alt_bench_ratings[curr_lang][\"chrf\"][\"avg\"] = sum(\n",
    "        alt_bench_ratings[curr_lang][\"chrf\"][\"scores\"]\n",
    "    ) / len(alt_bench_ratings[curr_lang][\"chrf\"][\"scores\"])\n",
    "    alt_bench_ratings[curr_lang][\"comet\"][\"avg\"] = sum(\n",
    "        alt_bench_ratings[curr_lang][\"comet\"][\"scores\"]\n",
    "    ) / len(alt_bench_ratings[curr_lang][\"comet\"][\"scores\"])\n",
    "\n",
    "alt_bench_ratings = {\"alt_bench_selected\": alt_bench_ratings}"
   ]
  },
  {
   "cell_type": "code",
   "execution_count": null,
   "id": "caa1de9b",
   "metadata": {},
   "outputs": [],
   "source": [
    "OUTPUT_PATH = \"../ratings/\"\n",
    "cands_output_file = [\"google_ratings.json\", \"nllb_ratings.json\", \"llm_ratings.json\", \"alt_bench_ratings.json\"]"
   ]
  },
  {
   "cell_type": "code",
   "execution_count": null,
   "id": "b130867d",
   "metadata": {},
   "outputs": [],
   "source": [
    "def generate_ratings(): \n",
    "    for cands_output_file in cands_output_file:\n",
    "        file_output_path = os.path.join(OUTPUT_PATH, cands_output_file)\n",
    "\n",
    "        # As long as the output file does not exist, we will write the ratings to the file\n",
    "        if not os.path.exists(file_output_path):\n",
    "\n",
    "            print(f\"{cands_output_file} does not exist, generating ratings for all...\")\n",
    "\n",
    "            google_trans_ratings = get_candidate_ratings(\"candidate_1\", LANGUAGES.keys())\n",
    "            nllb_trans_ratings = get_candidate_ratings(\"candidate_2\", LANGUAGES.keys()) \n",
    "            llm_trans_ratings = get_candidate_ratings(\"candidate_3\", LANGUAGES.keys())\n",
    "\n",
    "            with open(os.path.join(f\"{OUTPUT_PATH}/google_ratings.json\"), \"w\", encoding=\"utf-8\") as f:\n",
    "                json.dump(google_trans_ratings, f, indent=4, ensure_ascii=False)\n",
    "\n",
    "            with open(os.path.join(f\"{OUTPUT_PATH}/nllb_ratings.json\"), \"w\", encoding=\"utf-8\") as f:\n",
    "                json.dump(nllb_trans_ratings, f, indent=4, ensure_ascii=False)\n",
    "\n",
    "            with open(os.path.join(f\"{OUTPUT_PATH}/llm_ratings.json\"), \"w\", encoding=\"utf-8\") as f:\n",
    "                json.dump(llm_trans_ratings, f, indent=4, ensure_ascii=False)\n",
    "\n",
    "            with open(os.path.join(f\"{OUTPUT_PATH}/alt_bench_ratings.json\"), \"w\", encoding=\"utf-8\") as f:\n",
    "                json.dump(alt_bench_ratings, f, indent=4, ensure_ascii=False)\n",
    "            \n",
    "            return\n",
    "    \n",
    "    print(\"All ratings files already exist, skipping generation...\")"
   ]
  },
  {
   "cell_type": "markdown",
   "id": "5a5c9b33",
   "metadata": {},
   "source": [
    "## Data Analysis on Ratings"
   ]
  },
  {
   "cell_type": "code",
   "execution_count": 9,
   "id": "6d2a308a",
   "metadata": {},
   "outputs": [],
   "source": [
    "import seaborn as sns\n",
    "import pandas as pd\n",
    "sns.set_theme(style=\"whitegrid\")\n",
    "\n",
    "penguins = sns.load_dataset(\"penguins\")"
   ]
  },
  {
   "cell_type": "code",
   "execution_count": 7,
   "id": "fc71fa5c",
   "metadata": {},
   "outputs": [
    {
     "data": {
      "application/vnd.microsoft.datawrangler.viewer.v0+json": {
       "columns": [
        {
         "name": "index",
         "rawType": "int64",
         "type": "integer"
        },
        {
         "name": "species",
         "rawType": "object",
         "type": "string"
        },
        {
         "name": "island",
         "rawType": "object",
         "type": "string"
        },
        {
         "name": "bill_length_mm",
         "rawType": "float64",
         "type": "float"
        },
        {
         "name": "bill_depth_mm",
         "rawType": "float64",
         "type": "float"
        },
        {
         "name": "flipper_length_mm",
         "rawType": "float64",
         "type": "float"
        },
        {
         "name": "body_mass_g",
         "rawType": "float64",
         "type": "float"
        },
        {
         "name": "sex",
         "rawType": "object",
         "type": "unknown"
        }
       ],
       "ref": "0f30d3df-698e-45ed-b597-7fcb6891ce20",
       "rows": [
        [
         "0",
         "Adelie",
         "Torgersen",
         "39.1",
         "18.7",
         "181.0",
         "3750.0",
         "Male"
        ],
        [
         "1",
         "Adelie",
         "Torgersen",
         "39.5",
         "17.4",
         "186.0",
         "3800.0",
         "Female"
        ],
        [
         "2",
         "Adelie",
         "Torgersen",
         "40.3",
         "18.0",
         "195.0",
         "3250.0",
         "Female"
        ],
        [
         "3",
         "Adelie",
         "Torgersen",
         null,
         null,
         null,
         null,
         null
        ],
        [
         "4",
         "Adelie",
         "Torgersen",
         "36.7",
         "19.3",
         "193.0",
         "3450.0",
         "Female"
        ],
        [
         "5",
         "Adelie",
         "Torgersen",
         "39.3",
         "20.6",
         "190.0",
         "3650.0",
         "Male"
        ],
        [
         "6",
         "Adelie",
         "Torgersen",
         "38.9",
         "17.8",
         "181.0",
         "3625.0",
         "Female"
        ],
        [
         "7",
         "Adelie",
         "Torgersen",
         "39.2",
         "19.6",
         "195.0",
         "4675.0",
         "Male"
        ],
        [
         "8",
         "Adelie",
         "Torgersen",
         "34.1",
         "18.1",
         "193.0",
         "3475.0",
         null
        ],
        [
         "9",
         "Adelie",
         "Torgersen",
         "42.0",
         "20.2",
         "190.0",
         "4250.0",
         null
        ],
        [
         "10",
         "Adelie",
         "Torgersen",
         "37.8",
         "17.1",
         "186.0",
         "3300.0",
         null
        ],
        [
         "11",
         "Adelie",
         "Torgersen",
         "37.8",
         "17.3",
         "180.0",
         "3700.0",
         null
        ],
        [
         "12",
         "Adelie",
         "Torgersen",
         "41.1",
         "17.6",
         "182.0",
         "3200.0",
         "Female"
        ],
        [
         "13",
         "Adelie",
         "Torgersen",
         "38.6",
         "21.2",
         "191.0",
         "3800.0",
         "Male"
        ],
        [
         "14",
         "Adelie",
         "Torgersen",
         "34.6",
         "21.1",
         "198.0",
         "4400.0",
         "Male"
        ],
        [
         "15",
         "Adelie",
         "Torgersen",
         "36.6",
         "17.8",
         "185.0",
         "3700.0",
         "Female"
        ],
        [
         "16",
         "Adelie",
         "Torgersen",
         "38.7",
         "19.0",
         "195.0",
         "3450.0",
         "Female"
        ],
        [
         "17",
         "Adelie",
         "Torgersen",
         "42.5",
         "20.7",
         "197.0",
         "4500.0",
         "Male"
        ],
        [
         "18",
         "Adelie",
         "Torgersen",
         "34.4",
         "18.4",
         "184.0",
         "3325.0",
         "Female"
        ],
        [
         "19",
         "Adelie",
         "Torgersen",
         "46.0",
         "21.5",
         "194.0",
         "4200.0",
         "Male"
        ],
        [
         "20",
         "Adelie",
         "Biscoe",
         "37.8",
         "18.3",
         "174.0",
         "3400.0",
         "Female"
        ],
        [
         "21",
         "Adelie",
         "Biscoe",
         "37.7",
         "18.7",
         "180.0",
         "3600.0",
         "Male"
        ],
        [
         "22",
         "Adelie",
         "Biscoe",
         "35.9",
         "19.2",
         "189.0",
         "3800.0",
         "Female"
        ],
        [
         "23",
         "Adelie",
         "Biscoe",
         "38.2",
         "18.1",
         "185.0",
         "3950.0",
         "Male"
        ],
        [
         "24",
         "Adelie",
         "Biscoe",
         "38.8",
         "17.2",
         "180.0",
         "3800.0",
         "Male"
        ],
        [
         "25",
         "Adelie",
         "Biscoe",
         "35.3",
         "18.9",
         "187.0",
         "3800.0",
         "Female"
        ],
        [
         "26",
         "Adelie",
         "Biscoe",
         "40.6",
         "18.6",
         "183.0",
         "3550.0",
         "Male"
        ],
        [
         "27",
         "Adelie",
         "Biscoe",
         "40.5",
         "17.9",
         "187.0",
         "3200.0",
         "Female"
        ],
        [
         "28",
         "Adelie",
         "Biscoe",
         "37.9",
         "18.6",
         "172.0",
         "3150.0",
         "Female"
        ],
        [
         "29",
         "Adelie",
         "Biscoe",
         "40.5",
         "18.9",
         "180.0",
         "3950.0",
         "Male"
        ],
        [
         "30",
         "Adelie",
         "Dream",
         "39.5",
         "16.7",
         "178.0",
         "3250.0",
         "Female"
        ],
        [
         "31",
         "Adelie",
         "Dream",
         "37.2",
         "18.1",
         "178.0",
         "3900.0",
         "Male"
        ],
        [
         "32",
         "Adelie",
         "Dream",
         "39.5",
         "17.8",
         "188.0",
         "3300.0",
         "Female"
        ],
        [
         "33",
         "Adelie",
         "Dream",
         "40.9",
         "18.9",
         "184.0",
         "3900.0",
         "Male"
        ],
        [
         "34",
         "Adelie",
         "Dream",
         "36.4",
         "17.0",
         "195.0",
         "3325.0",
         "Female"
        ],
        [
         "35",
         "Adelie",
         "Dream",
         "39.2",
         "21.1",
         "196.0",
         "4150.0",
         "Male"
        ],
        [
         "36",
         "Adelie",
         "Dream",
         "38.8",
         "20.0",
         "190.0",
         "3950.0",
         "Male"
        ],
        [
         "37",
         "Adelie",
         "Dream",
         "42.2",
         "18.5",
         "180.0",
         "3550.0",
         "Female"
        ],
        [
         "38",
         "Adelie",
         "Dream",
         "37.6",
         "19.3",
         "181.0",
         "3300.0",
         "Female"
        ],
        [
         "39",
         "Adelie",
         "Dream",
         "39.8",
         "19.1",
         "184.0",
         "4650.0",
         "Male"
        ],
        [
         "40",
         "Adelie",
         "Dream",
         "36.5",
         "18.0",
         "182.0",
         "3150.0",
         "Female"
        ],
        [
         "41",
         "Adelie",
         "Dream",
         "40.8",
         "18.4",
         "195.0",
         "3900.0",
         "Male"
        ],
        [
         "42",
         "Adelie",
         "Dream",
         "36.0",
         "18.5",
         "186.0",
         "3100.0",
         "Female"
        ],
        [
         "43",
         "Adelie",
         "Dream",
         "44.1",
         "19.7",
         "196.0",
         "4400.0",
         "Male"
        ],
        [
         "44",
         "Adelie",
         "Dream",
         "37.0",
         "16.9",
         "185.0",
         "3000.0",
         "Female"
        ],
        [
         "45",
         "Adelie",
         "Dream",
         "39.6",
         "18.8",
         "190.0",
         "4600.0",
         "Male"
        ],
        [
         "46",
         "Adelie",
         "Dream",
         "41.1",
         "19.0",
         "182.0",
         "3425.0",
         "Male"
        ],
        [
         "47",
         "Adelie",
         "Dream",
         "37.5",
         "18.9",
         "179.0",
         "2975.0",
         null
        ],
        [
         "48",
         "Adelie",
         "Dream",
         "36.0",
         "17.9",
         "190.0",
         "3450.0",
         "Female"
        ],
        [
         "49",
         "Adelie",
         "Dream",
         "42.3",
         "21.2",
         "191.0",
         "4150.0",
         "Male"
        ]
       ],
       "shape": {
        "columns": 7,
        "rows": 344
       }
      },
      "text/html": [
       "<div>\n",
       "<style scoped>\n",
       "    .dataframe tbody tr th:only-of-type {\n",
       "        vertical-align: middle;\n",
       "    }\n",
       "\n",
       "    .dataframe tbody tr th {\n",
       "        vertical-align: top;\n",
       "    }\n",
       "\n",
       "    .dataframe thead th {\n",
       "        text-align: right;\n",
       "    }\n",
       "</style>\n",
       "<table border=\"1\" class=\"dataframe\">\n",
       "  <thead>\n",
       "    <tr style=\"text-align: right;\">\n",
       "      <th></th>\n",
       "      <th>species</th>\n",
       "      <th>island</th>\n",
       "      <th>bill_length_mm</th>\n",
       "      <th>bill_depth_mm</th>\n",
       "      <th>flipper_length_mm</th>\n",
       "      <th>body_mass_g</th>\n",
       "      <th>sex</th>\n",
       "    </tr>\n",
       "  </thead>\n",
       "  <tbody>\n",
       "    <tr>\n",
       "      <th>0</th>\n",
       "      <td>Adelie</td>\n",
       "      <td>Torgersen</td>\n",
       "      <td>39.1</td>\n",
       "      <td>18.7</td>\n",
       "      <td>181.0</td>\n",
       "      <td>3750.0</td>\n",
       "      <td>Male</td>\n",
       "    </tr>\n",
       "    <tr>\n",
       "      <th>1</th>\n",
       "      <td>Adelie</td>\n",
       "      <td>Torgersen</td>\n",
       "      <td>39.5</td>\n",
       "      <td>17.4</td>\n",
       "      <td>186.0</td>\n",
       "      <td>3800.0</td>\n",
       "      <td>Female</td>\n",
       "    </tr>\n",
       "    <tr>\n",
       "      <th>2</th>\n",
       "      <td>Adelie</td>\n",
       "      <td>Torgersen</td>\n",
       "      <td>40.3</td>\n",
       "      <td>18.0</td>\n",
       "      <td>195.0</td>\n",
       "      <td>3250.0</td>\n",
       "      <td>Female</td>\n",
       "    </tr>\n",
       "    <tr>\n",
       "      <th>3</th>\n",
       "      <td>Adelie</td>\n",
       "      <td>Torgersen</td>\n",
       "      <td>NaN</td>\n",
       "      <td>NaN</td>\n",
       "      <td>NaN</td>\n",
       "      <td>NaN</td>\n",
       "      <td>NaN</td>\n",
       "    </tr>\n",
       "    <tr>\n",
       "      <th>4</th>\n",
       "      <td>Adelie</td>\n",
       "      <td>Torgersen</td>\n",
       "      <td>36.7</td>\n",
       "      <td>19.3</td>\n",
       "      <td>193.0</td>\n",
       "      <td>3450.0</td>\n",
       "      <td>Female</td>\n",
       "    </tr>\n",
       "    <tr>\n",
       "      <th>...</th>\n",
       "      <td>...</td>\n",
       "      <td>...</td>\n",
       "      <td>...</td>\n",
       "      <td>...</td>\n",
       "      <td>...</td>\n",
       "      <td>...</td>\n",
       "      <td>...</td>\n",
       "    </tr>\n",
       "    <tr>\n",
       "      <th>339</th>\n",
       "      <td>Gentoo</td>\n",
       "      <td>Biscoe</td>\n",
       "      <td>NaN</td>\n",
       "      <td>NaN</td>\n",
       "      <td>NaN</td>\n",
       "      <td>NaN</td>\n",
       "      <td>NaN</td>\n",
       "    </tr>\n",
       "    <tr>\n",
       "      <th>340</th>\n",
       "      <td>Gentoo</td>\n",
       "      <td>Biscoe</td>\n",
       "      <td>46.8</td>\n",
       "      <td>14.3</td>\n",
       "      <td>215.0</td>\n",
       "      <td>4850.0</td>\n",
       "      <td>Female</td>\n",
       "    </tr>\n",
       "    <tr>\n",
       "      <th>341</th>\n",
       "      <td>Gentoo</td>\n",
       "      <td>Biscoe</td>\n",
       "      <td>50.4</td>\n",
       "      <td>15.7</td>\n",
       "      <td>222.0</td>\n",
       "      <td>5750.0</td>\n",
       "      <td>Male</td>\n",
       "    </tr>\n",
       "    <tr>\n",
       "      <th>342</th>\n",
       "      <td>Gentoo</td>\n",
       "      <td>Biscoe</td>\n",
       "      <td>45.2</td>\n",
       "      <td>14.8</td>\n",
       "      <td>212.0</td>\n",
       "      <td>5200.0</td>\n",
       "      <td>Female</td>\n",
       "    </tr>\n",
       "    <tr>\n",
       "      <th>343</th>\n",
       "      <td>Gentoo</td>\n",
       "      <td>Biscoe</td>\n",
       "      <td>49.9</td>\n",
       "      <td>16.1</td>\n",
       "      <td>213.0</td>\n",
       "      <td>5400.0</td>\n",
       "      <td>Male</td>\n",
       "    </tr>\n",
       "  </tbody>\n",
       "</table>\n",
       "<p>344 rows × 7 columns</p>\n",
       "</div>"
      ],
      "text/plain": [
       "    species     island  bill_length_mm  bill_depth_mm  flipper_length_mm  \\\n",
       "0    Adelie  Torgersen            39.1           18.7              181.0   \n",
       "1    Adelie  Torgersen            39.5           17.4              186.0   \n",
       "2    Adelie  Torgersen            40.3           18.0              195.0   \n",
       "3    Adelie  Torgersen             NaN            NaN                NaN   \n",
       "4    Adelie  Torgersen            36.7           19.3              193.0   \n",
       "..      ...        ...             ...            ...                ...   \n",
       "339  Gentoo     Biscoe             NaN            NaN                NaN   \n",
       "340  Gentoo     Biscoe            46.8           14.3              215.0   \n",
       "341  Gentoo     Biscoe            50.4           15.7              222.0   \n",
       "342  Gentoo     Biscoe            45.2           14.8              212.0   \n",
       "343  Gentoo     Biscoe            49.9           16.1              213.0   \n",
       "\n",
       "     body_mass_g     sex  \n",
       "0         3750.0    Male  \n",
       "1         3800.0  Female  \n",
       "2         3250.0  Female  \n",
       "3            NaN     NaN  \n",
       "4         3450.0  Female  \n",
       "..           ...     ...  \n",
       "339          NaN     NaN  \n",
       "340       4850.0  Female  \n",
       "341       5750.0    Male  \n",
       "342       5200.0  Female  \n",
       "343       5400.0    Male  \n",
       "\n",
       "[344 rows x 7 columns]"
      ]
     },
     "execution_count": 7,
     "metadata": {},
     "output_type": "execute_result"
    }
   ],
   "source": [
    "penguins"
   ]
  },
  {
   "cell_type": "code",
   "execution_count": 16,
   "id": "c4f74ff4",
   "metadata": {},
   "outputs": [],
   "source": [
    "# Read Google ratings\n",
    "with open(os.path.join(OUTPUT_PATH, \"google_ratings.json\"), \"r\", encoding=\"utf-8\") as f:\n",
    "    google_trans_ratings = json.load(f)\n",
    "\n",
    "# Read NLLB ratings\n",
    "with open(os.path.join(OUTPUT_PATH, \"nllb_ratings.json\"), \"r\", encoding=\"utf-8\") as f:\n",
    "    nllb_trans_ratings = json.load(f)\n",
    "\n",
    "# Read LLM ratings\n",
    "with open(os.path.join(OUTPUT_PATH, \"llm_ratings.json\"), \"r\", encoding=\"utf-8\") as f:\n",
    "    llm_trans_ratings = json.load(f)\n",
    "\n",
    "# Read ALT-Bench ratings\n",
    "with open(os.path.join(OUTPUT_PATH, \"alt_bench_ratings.json\"), \"r\", encoding=\"utf-8\") as f:\n",
    "    alt_bench_ratings = json.load(f)\n",
    "\n",
    "all_ratings = [google_trans_ratings, nllb_trans_ratings, llm_trans_ratings, alt_bench_ratings]"
   ]
  },
  {
   "cell_type": "code",
   "execution_count": 17,
   "id": "46a4eeb7",
   "metadata": {},
   "outputs": [],
   "source": [
    "rating_rows = []\n",
    "\n",
    "CANDIDATE_MAP = {\n",
    "    \"candidate_1\": \"google_translate\",\n",
    "    \"candidate_2\": \"nllb_translate\",\n",
    "    \"candidate_3\": \"llm_translate\",\n",
    "    \"alt_bench_selected\": \"alt_bench\"\n",
    "}\n",
    "\n",
    "for rating in all_ratings:\n",
    "    for candidate_id, candidate_ratings in rating.items():\n",
    "        for language, scores in candidate_ratings.items():\n",
    "            rating_rows.append({\n",
    "                \"candidate_id\": CANDIDATE_MAP[candidate_id],\n",
    "                \"language\": language,\n",
    "                \"sentence_bleu_avg\": scores[\"sentence_bleu\"][\"avg\"],\n",
    "                \"chrf_avg\": scores[\"chrf\"][\"avg\"],\n",
    "                \"comet_avg\": scores[\"comet\"][\"avg\"] * 100\n",
    "            })\n",
    "\n",
    "ratings_df = pd.DataFrame(rating_rows)"
   ]
  },
  {
   "cell_type": "code",
   "execution_count": null,
   "id": "5ba7fcb7",
   "metadata": {},
   "outputs": [],
   "source": [
    "def plot_ratings_graph(ratings_df, metric):\n",
    "    graph = sns.catplot(\n",
    "        data=ratings_df,\n",
    "        x=\"language\",\n",
    "        y=f\"{metric}_avg\",\n",
    "        hue=\"candidate_id\",\n",
    "        kind=\"bar\",\n",
    "        height=6,\n",
    "        aspect=2,\n",
    "    )\n",
    "    graph.set_xticklabels(rotation=0)\n",
    "    graph.set_axis_labels(\"Language\", f\"{metric.upper()} Score\")\n",
    "    graph.set_titles(f\"{metric.upper()} Scores by Language and Candidate\")\n",
    "    graph.despine(left=True)\n",
    "    graph.set(ylim=(0, 100))\n",
    "    "
   ]
  },
  {
   "cell_type": "code",
   "execution_count": 27,
   "id": "9a520ab2",
   "metadata": {},
   "outputs": [
    {
     "data": {
      "image/png": "[encoded data removed]",
      "text/plain": [
       "<Figure size 768.125x300 with 1 Axes>"
      ]
     },
     "metadata": {},
     "output_type": "display_data"
    },
    {
     "data": {
      "image/png": "[encoded data removed]",
      "text/plain": [
       "<Figure size 768.125x300 with 1 Axes>"
      ]
     },
     "metadata": {},
     "output_type": "display_data"
    },
    {
     "data": {
      "image/png": "[encoded data removed]",
      "text/plain": [
       "<Figure size 768.125x300 with 1 Axes>"
      ]
     },
     "metadata": {},
     "output_type": "display_data"
    }
   ],
   "source": [
    "plot_ratings_graph(ratings_df, \"sentence_bleu\")\n",
    "plot_ratings_graph(ratings_df, \"chrf\")\n",
    "plot_ratings_graph(ratings_df, \"comet\")"
   ]
  },
  {
   "cell_type": "code",
   "execution_count": null,
   "id": "942b4006",
   "metadata": {},
   "outputs": [],
   "source": []
  }
 ],
 "metadata": {
  "kernelspec": {
   "display_name": "omscs-llm",
   "language": "python",
   "name": "python3"
  },
  "language_info": {
   "codemirror_mode": {
    "name": "ipython",
    "version": 3
   },
   "file_extension": ".py",
   "mimetype": "text/x-python",
   "name": "python",
   "nbconvert_exporter": "python",
   "pygments_lexer": "ipython3",
   "version": "3.10.16"
  }
 },
 "nbformat": 4,
 "nbformat_minor": 5
}
