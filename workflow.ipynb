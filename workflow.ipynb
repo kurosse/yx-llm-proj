{
 "cells": [
  {
   "cell_type": "code",
   "execution_count": 35,
   "id": "f9dec927",
   "metadata": {},
   "outputs": [
    {
     "name": "stdout",
     "output_type": "stream",
     "text": [
      "N/A\n"
     ]
    }
   ],
   "source": [
    "import os\n",
    "\n",
    "from pydantic_ai import Agent\n",
    "from pydantic_ai.models.openai import OpenAIModel\n",
    "from pydantic_ai.providers.openai import OpenAIProvider\n",
    "from dotenv import load_dotenv\n",
    "\n",
    "load_dotenv()\n",
    "\n",
    "# agent = Agent('openai:gpt-4o-mini')\n",
    "oai_agent = Agent(OpenAIModel(\"gpt-4o-mini\"), system_prompt=\"You are a calculator that can only respond in numbers. N/A is not a number\")  # Use OpenAI GPT-4o Mini\n",
    "# ds_agent = Agent(\n",
    "#     OpenAIModel(\"deepseek-chat\", provider=OpenAIProvider(base_url=\"https://api.deepseek.com/\", api_key=os.getenv(\"DEEPSEEK_API_KEY\")))\n",
    "# )\n",
    "result = await oai_agent.run(\"Where is Tokyo located?\")\n",
    "print(result.output)"
   ]
  }
 ],
 "metadata": {
  "kernelspec": {
   "display_name": "omscs-llm",
   "language": "python",
   "name": "python3"
  },
  "language_info": {
   "codemirror_mode": {
    "name": "ipython",
    "version": 3
   },
   "file_extension": ".py",
   "mimetype": "text/x-python",
   "name": "python",
   "nbconvert_exporter": "python",
   "pygments_lexer": "ipython3",
   "version": "3.10.16"
  }
 },
 "nbformat": 4,
 "nbformat_minor": 5
}
